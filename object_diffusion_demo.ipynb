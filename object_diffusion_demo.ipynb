{
  "cells": [
    {
      "cell_type": "markdown",
      "metadata": {
        "id": "view-in-github",
        "colab_type": "text"
      },
      "source": [
        "<a href=\"https://colab.research.google.com/github/jermwatt/morphi_lab/blob/object_diffusion_collab_demo/object_diffusion_demo.ipynb\" target=\"_parent\"><img src=\"https://colab.research.google.com/assets/colab-badge.svg\" alt=\"Open In Colab\"/></a>"
      ]
    },
    {
      "cell_type": "markdown",
      "metadata": {
        "id": "kVbKjgHovhAm"
      },
      "source": [
        "# Single object diffusion demo"
      ]
    },
    {
      "cell_type": "markdown",
      "metadata": {
        "id": "XvZ-6yqoLT9L"
      },
      "source": [
        "This notebook allows for experimentation with object detection + segmentation --> diffusion.\n",
        "\n",
        "To use it first:\n",
        "\n",
        "- select a gpu runtime: make sure you have chosen a GPU runtime from the options above - choose A100 if available.\n",
        "- activate the first few cells to \n",
        "  - perform a machine check: make sure your runtime is employing a GPU with sufficient memory\n",
        "  - download associated files and installs\n",
        "- start experimenting!\n"
      ]
    },
    {
      "cell_type": "markdown",
      "metadata": {
        "id": "riciSGvmLT9L"
      },
      "source": [
        "## 1.  machine setup and installs"
      ]
    },
    {
      "cell_type": "markdown",
      "metadata": {
        "id": "NqvrZr526EDJ"
      },
      "source": [
        "### 1.1. pre-launch machine check\n",
        "\n",
        "Activate the code block below to double check that you are using a GPU runtime for the experiments.  You don't have to use one if you can't, but the experiments will run significantly faster (in particular the diffusion steps) if you are using one."
      ]
    },
    {
      "cell_type": "code",
      "execution_count": null,
      "metadata": {
        "id": "XZEkR12-eG-Z"
      },
      "outputs": [],
      "source": [
        "# check for GPU runtime\n",
        "gpu_info = !nvidia-smi\n",
        "gpu_info = '\\n'.join(gpu_info)\n",
        "if gpu_info.find('failed') >= 0:\n",
        "  print('Not connected to a GPU')\n",
        "else:\n",
        "  print(gpu_info)\n",
        "\n",
        "# check for memory\n",
        "from psutil import virtual_memory\n",
        "ram_gb = virtual_memory().total / 1e9\n",
        "print('Your runtime has {:.1f} gigabytes of available RAM\\n'.format(ram_gb))\n",
        "\n",
        "if ram_gb < 20:\n",
        "  print('Not using a high-RAM runtime')\n",
        "else:\n",
        "  print('You are using a high-RAM runtime!')"
      ]
    },
    {
      "cell_type": "markdown",
      "metadata": {
        "id": "YGc-wRzC6ArW"
      },
      "source": [
        "### 1.2. installs\n",
        "\n",
        "Activate the cell below to install all necessary packages to your collab enviroment for these experiments."
      ]
    },
    {
      "cell_type": "code",
      "execution_count": null,
      "metadata": {
        "id": "-iHfZS44dDgY"
      },
      "outputs": [],
      "source": [
        "# install reqiured libraries \n",
        "!pip install \"ultralytics==8.0.111\" \"transformers==4.29.2\" \"timm==0.9.2\" \"diffusers==0.16.1\" \"safetensors==0.3.1\" \"accelerate==0.19.0\""
      ]
    },
    {
      "cell_type": "markdown",
      "source": [
        "Activate the cell below to pull all helper functions required to run this demo."
      ],
      "metadata": {
        "id": "wtFjIXPcLWwr"
      }
    },
    {
      "cell_type": "code",
      "source": [
        "# pull some images from the web\n",
        "import urllib.request\n",
        "\n",
        "def download_file(url, output_path):\n",
        "    urllib.request.urlretrieve(url, output_path)\n",
        "\n",
        "# pull segmentation module\n",
        "url = \"https://raw.githubusercontent.com/jermwatt/morphi_lab/object_diffusion_collab_demo/segmenter.py\"\n",
        "local_path = \"/content/segmenter.py\"\n",
        "download_file(url,local_path)\n",
        "\n",
        "# pull diffusion module\n",
        "url = \"https://raw.githubusercontent.com/jermwatt/morphi_lab/object_diffusion_collab_demo/diffuser.py\"\n",
        "local_path = \"/content/diffuser.py\"\n",
        "download_file(url,local_path)\n",
        "\n",
        "# pull utilities module\n",
        "url = \"https://raw.githubusercontent.com/jermwatt/morphi_lab/object_diffusion_collab_demo/utilities.py\"\n",
        "local_path = \"/content/utilities.py\"\n",
        "download_file(url,local_path)"
      ],
      "metadata": {
        "id": "2v54LVfXLZ2v"
      },
      "execution_count": null,
      "outputs": []
    },
    {
      "cell_type": "markdown",
      "source": [
        "Activate the cell below to pull in a a sample images to experiment with."
      ],
      "metadata": {
        "id": "ZWvhuBddOvyi"
      }
    },
    {
      "cell_type": "code",
      "source": [
        "# man holding donut - we'll use this one for testing\n",
        "url = \"https://www.shutterstock.com/image-photo/surprised-young-man-holding-donut-260nw-586330142.jpg\"\n",
        "output_path = \"/content/test_donut.png\"\n",
        "download_file(url, output_path)"
      ],
      "metadata": {
        "id": "cgZXVwGROv7o"
      },
      "execution_count": null,
      "outputs": []
    },
    {
      "cell_type": "markdown",
      "source": [
        "### 1.3.  Module setup\n",
        "\n",
        "Activate the next cell to load in the required functionality from your newly installed modules.\n",
        "\n",
        "The first time you do this both a Yolo and Diffusion models (so will take 30 seconds to a minute or two to execute)."
      ],
      "metadata": {
        "id": "1w367zdHNRHe"
      }
    },
    {
      "cell_type": "code",
      "source": [
        "# import segmentation and diffusion modules\n",
        "from segmenter import segment_image, label_lookup_dict\n",
        "from diffuser import diffuse_segmented_img\n",
        "from utilities import show_img, show_all_results"
      ],
      "metadata": {
        "id": "-NmNymg6NQnD"
      },
      "execution_count": null,
      "outputs": []
    },
    {
      "cell_type": "markdown",
      "metadata": {
        "id": "CVynTcEA6Q5S"
      },
      "source": [
        "## 2. start experimenting!"
      ]
    },
    {
      "cell_type": "markdown",
      "source": [
        "Lets start by looking at the image we downloaded."
      ],
      "metadata": {
        "id": "_kvTFAORQC0z"
      }
    },
    {
      "cell_type": "code",
      "execution_count": null,
      "metadata": {
        "id": "Kd8hBRFK59Hm"
      },
      "outputs": [],
      "source": [
        "# plot the downloaded test image\n",
        "show_img('/content/test_donut.png')"
      ]
    },
    {
      "cell_type": "markdown",
      "source": [
        "### 2.1. Segmentation"
      ],
      "metadata": {
        "id": "Wqs2b0siRCX1"
      }
    },
    {
      "cell_type": "markdown",
      "source": [
        "All right.  Let's segment this image.\n",
        "\n",
        "This demo has all of the pre-trained yolo labels available for segmentation.\n",
        "\n",
        "To see all of the currently available labels activate the cell below."
      ],
      "metadata": {
        "id": "pZqalIkSQPVU"
      }
    },
    {
      "cell_type": "code",
      "source": [
        "# print out all of the available labels for segmentation\n",
        "list(label_lookup_dict.keys())"
      ],
      "metadata": {
        "id": "OMLz9zZ3Qf1T"
      },
      "execution_count": null,
      "outputs": []
    },
    {
      "cell_type": "markdown",
      "source": [
        "Since `person` and `donut` are in this image, let's segment each separately.\n",
        "\n",
        "Remember: in this demo you can only segment one distinct object per execution (e.g., `person` OR `donut`).\n",
        "\n",
        "First the donut."
      ],
      "metadata": {
        "id": "snYk8hQmQldC"
      }
    },
    {
      "cell_type": "code",
      "execution_count": null,
      "metadata": {
        "id": "ucehWEPVI3u7"
      },
      "outputs": [],
      "source": [
        "# segment the donut out of the test image\n",
        "img_path = \"/content/test_donut.png\"\n",
        "labels = ['donut']\n",
        "img, mask, seg = segment_image(img_path,\n",
        "                               labels=labels)"
      ]
    },
    {
      "cell_type": "code",
      "execution_count": null,
      "metadata": {
        "id": "E2Dt93-tCCqe"
      },
      "outputs": [],
      "source": [
        "# show the segmented image - here the donut is masked with \"pink\"\n",
        "seg.show_result()"
      ]
    },
    {
      "cell_type": "markdown",
      "source": [
        "Let's segment the same image for the person."
      ],
      "metadata": {
        "id": "pF12ZrgIRKxO"
      }
    },
    {
      "cell_type": "code",
      "source": [
        "# segment the donut out of the test image\n",
        "img_path = \"/content/test_donut.png\"\n",
        "labels = ['person']\n",
        "img, mask, seg = segment_image(img_path,\n",
        "                               labels=labels)"
      ],
      "metadata": {
        "id": "yE2eX0qwRNOQ"
      },
      "execution_count": null,
      "outputs": []
    },
    {
      "cell_type": "code",
      "source": [
        "# show the segmented image - here the person is masked with \"pink\"\n",
        "seg.show_result()"
      ],
      "metadata": {
        "id": "Wc1RvQC4RPPl"
      },
      "execution_count": null,
      "outputs": []
    },
    {
      "cell_type": "markdown",
      "metadata": {
        "id": "De_NWYAJENBV"
      },
      "source": [
        "### 2.3. diffuse an object"
      ]
    },
    {
      "cell_type": "markdown",
      "source": [
        "After segmenting, we can pass our image and segmented mask to the diffuser.\n",
        "\n",
        "Let's try this below with our `person` segmentation and prompt about an ape."
      ],
      "metadata": {
        "id": "93VlDdICRXpL"
      }
    },
    {
      "cell_type": "code",
      "execution_count": null,
      "metadata": {
        "id": "78C-TzyiEj--"
      },
      "outputs": [],
      "source": [
        "# segment the donut out of the test image\n",
        "img_path = \"/content/test_donut.png\"\n",
        "labels = ['person']\n",
        "img, mask, seg = segment_image(img_path,\n",
        "                               labels=labels)\n",
        "\n",
        "# diffuse the masked segmentation \n",
        "diffused_img = diffuse_segmented_img(img,\n",
        "                                     mask,\n",
        "                                     prompt='an ape, smiling, high resolution, holding something',\n",
        "                                     seed=3433)\n",
        "\n",
        "# show results\n",
        "show_all_results(seg.orig_img,\n",
        "                 mask,\n",
        "                 diffused_img)"
      ]
    },
    {
      "cell_type": "markdown",
      "source": [
        "Notice the fixed `seed` I am inputing (to keep the output look the same).  If you want a random seed - simply omit this option.\n",
        "\n",
        "Let's try this below."
      ],
      "metadata": {
        "id": "X_3r8qJ8MBsE"
      }
    },
    {
      "cell_type": "code",
      "source": [
        "# segment the donut out of the test image\n",
        "img_path = \"/content/test_donut.png\"\n",
        "labels = ['person']\n",
        "img, mask, seg = segment_image(img_path,\n",
        "                               labels=labels)\n",
        "\n",
        "# diffuse the masked segmentation \n",
        "diffused_img = diffuse_segmented_img(img,\n",
        "                                     mask,\n",
        "                                     prompt='an ape, smiling, high resolution, holding something')\n",
        "\n",
        "# show results\n",
        "show_all_results(seg.orig_img,\n",
        "                 mask,\n",
        "                 diffused_img)"
      ],
      "metadata": {
        "id": "_f1qjt6GMNIn"
      },
      "execution_count": null,
      "outputs": []
    },
    {
      "cell_type": "markdown",
      "source": [
        "Let's try the same image - different object.\n",
        "\n",
        "Now let's replace the `donut`. "
      ],
      "metadata": {
        "id": "Xqp0TnolLi9j"
      }
    },
    {
      "cell_type": "code",
      "source": [
        "# segment the donut out of the test image\n",
        "img_path = \"/content/test_donut.png\"\n",
        "labels = ['donut']\n",
        "img, mask, seg = segment_image(img_path,\n",
        "                               labels=labels)\n",
        "\n",
        "# diffuse the masked segmentation \n",
        "diffused_img = diffuse_segmented_img(img,\n",
        "                                     mask,\n",
        "                                     prompt='an orange, fruit, high resolution',\n",
        "                                     seed=3433)\n",
        "\n",
        "# show results\n",
        "show_all_results(seg.orig_img,\n",
        "                 mask,\n",
        "                 diffused_img)"
      ],
      "metadata": {
        "id": "3T-kp41MMbRX"
      },
      "execution_count": null,
      "outputs": []
    }
  ],
  "metadata": {
    "accelerator": "GPU",
    "colab": {
      "gpuType": "A100",
      "machine_shape": "hm",
      "private_outputs": true,
      "provenance": [],
      "include_colab_link": true
    },
    "kernelspec": {
      "display_name": "Python 3",
      "name": "python3"
    },
    "language_info": {
      "name": "python"
    }
  },
  "nbformat": 4,
  "nbformat_minor": 0
}