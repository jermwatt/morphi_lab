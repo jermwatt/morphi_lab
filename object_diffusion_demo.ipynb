{
  "cells": [
    {
      "attachments": {},
      "cell_type": "markdown",
      "metadata": {
        "id": "kVbKjgHovhAm"
      },
      "source": [
        "# 1.  Single object diffusion demo"
      ]
    },
    {
      "attachments": {},
      "cell_type": "markdown",
      "metadata": {},
      "source": [
        "This notebook allows for experimentation with object detection + segmentation --> diffusion.\n",
        "\n",
        "To use it first:\n",
        "\n",
        "- select a gpu runtime: make sure you have chosen a GPU runtime from the options above - choose A100 if available.\n",
        "- activate the first few cells to \n",
        "  - perform a machine check: make sure your runtime is employing a GPU with sufficient memory\n",
        "  - download associated files and installs\n",
        "- start experimenting!"
      ]
    },
    {
      "attachments": {},
      "cell_type": "markdown",
      "metadata": {},
      "source": [
        "## 1.  machine setup and installs"
      ]
    },
    {
      "attachments": {},
      "cell_type": "markdown",
      "metadata": {
        "id": "NqvrZr526EDJ"
      },
      "source": [
        "### pre-launch machine check\n",
        "\n",
        "Activate the code block below to double check that you are using a GPU runtime for the experiments.  You don't have to use one if you can't, but the experiments will run significantly faster (in particular the diffusion steps) if you are using one."
      ]
    },
    {
      "cell_type": "code",
      "execution_count": null,
      "metadata": {
        "id": "XZEkR12-eG-Z"
      },
      "outputs": [],
      "source": [
        "# check for GPU runtime\n",
        "gpu_info = !nvidia-smi\n",
        "gpu_info = '\\n'.join(gpu_info)\n",
        "if gpu_info.find('failed') >= 0:\n",
        "  print('Not connected to a GPU')\n",
        "else:\n",
        "  print(gpu_info)\n",
        "\n",
        "# check for memory\n",
        "from psutil import virtual_memory\n",
        "ram_gb = virtual_memory().total / 1e9\n",
        "print('Your runtime has {:.1f} gigabytes of available RAM\\n'.format(ram_gb))\n",
        "\n",
        "if ram_gb < 20:\n",
        "  print('Not using a high-RAM runtime')\n",
        "else:\n",
        "  print('You are using a high-RAM runtime!')"
      ]
    },
    {
      "attachments": {},
      "cell_type": "markdown",
      "metadata": {
        "id": "YGc-wRzC6ArW"
      },
      "source": [
        "### installs\n",
        "\n",
        "Activate the cell below to install all necessary packages to your collab enviroment for these experiments."
      ]
    },
    {
      "cell_type": "code",
      "execution_count": null,
      "metadata": {
        "id": "-iHfZS44dDgY"
      },
      "outputs": [],
      "source": [
        "# install reqiured libraries \n",
        "!pip install \"ultralytics==8.0.111\" \"transformers==4.29.2\" \"timm==0.9.2\" \"diffusers==0.16.1\" \"safetensors==0.3.1\" \"accelerate==0.19.0\""
      ]
    },
    {
      "attachments": {},
      "cell_type": "markdown",
      "metadata": {
        "id": "CVynTcEA6Q5S"
      },
      "source": [
        "## 2. start experimenting!"
      ]
    },
    {
      "cell_type": "code",
      "execution_count": null,
      "metadata": {
        "id": "Kd8hBRFK59Hm"
      },
      "outputs": [],
      "source": [
        "# import segmentation and diffusion modules\n",
        "# the first time you activate this cell models will be downloaded to your machine\n",
        "from segmenter import segment_img, label_lookup_dict\n",
        "from diffuser import diffuse_segmented_img"
      ]
    },
    {
      "cell_type": "code",
      "execution_count": null,
      "metadata": {
        "id": "vFtbQdpJ59Ln"
      },
      "outputs": [],
      "source": []
    },
    {
      "cell_type": "code",
      "execution_count": null,
      "metadata": {
        "id": "roW_LCYM8Yg4"
      },
      "outputs": [],
      "source": []
    },
    {
      "attachments": {},
      "cell_type": "markdown",
      "metadata": {
        "id": "N6Do_-S7Ce7V"
      },
      "source": []
    },
    {
      "cell_type": "code",
      "execution_count": null,
      "metadata": {},
      "outputs": [],
      "source": []
    },
    {
      "cell_type": "code",
      "execution_count": null,
      "metadata": {
        "id": "hKZbObGTCfTf"
      },
      "outputs": [],
      "source": [
        "# Example usage - picture of bald man holding can\n",
        "url = \"https://github.com/jermwatt/morphi_lab/blob/collab_demos/test_data/test_input/test_img.png?raw=true\"\n",
        "output_path = \"/content/test_img.png\"\n",
        "download_file(url, output_path)"
      ]
    },
    {
      "cell_type": "code",
      "execution_count": null,
      "metadata": {
        "id": "nkmsPPIUuGQe"
      },
      "outputs": [],
      "source": [
        "# man holding donut - we'll use this one for testing\n",
        "url = \"https://www.shutterstock.com/image-photo/surprised-young-man-holding-donut-260nw-586330142.jpg\"\n",
        "output_path = \"/content/test_donut.png\"\n",
        "download_file(url, output_path)"
      ]
    },
    {
      "attachments": {},
      "cell_type": "markdown",
      "metadata": {
        "id": "I4iUFXL99CQp"
      },
      "source": [
        "## 1.4.  segmentation"
      ]
    },
    {
      "cell_type": "code",
      "execution_count": null,
      "metadata": {
        "id": "WNpazu-C8YkF"
      },
      "outputs": [],
      "source": []
    },
    {
      "cell_type": "code",
      "execution_count": null,
      "metadata": {
        "id": "ucehWEPVI3u7"
      },
      "outputs": [],
      "source": [
        "img_path = \"/content/test_donut.png\"\n",
        "labels = ['bottle','cup']\n",
        "labels = ['person']\n",
        "conf = 0.05\n",
        "max_det = 1\n",
        "img, mask, seg = segment_image(img_path,\n",
        "                               labels=labels,\n",
        "                               conf=conf,\n",
        "                               max_det=max_det)"
      ]
    },
    {
      "cell_type": "code",
      "execution_count": null,
      "metadata": {
        "id": "E2Dt93-tCCqe"
      },
      "outputs": [],
      "source": [
        "seg.show_result()"
      ]
    },
    {
      "attachments": {},
      "cell_type": "markdown",
      "metadata": {
        "id": "De_NWYAJENBV"
      },
      "source": [
        "## 1.5. diffuse object"
      ]
    },
    {
      "cell_type": "code",
      "execution_count": null,
      "metadata": {
        "id": "78C-TzyiEj--"
      },
      "outputs": [],
      "source": []
    },
    {
      "cell_type": "code",
      "execution_count": null,
      "metadata": {
        "id": "bquTuw7DLCAn"
      },
      "outputs": [],
      "source": [
        "diffused_img = diffuse(img,\n",
        "                       mask,\n",
        "                       prompt='an ape, smiling, high resolution, holding something',\n",
        "                       seed=3433)"
      ]
    },
    {
      "attachments": {},
      "cell_type": "markdown",
      "metadata": {
        "id": "yadoN445NZus"
      },
      "source": [
        "## 1.6. Prep all imgs for showing "
      ]
    },
    {
      "cell_type": "code",
      "execution_count": null,
      "metadata": {
        "id": "teyWz-SQZm25"
      },
      "outputs": [],
      "source": []
    },
    {
      "cell_type": "code",
      "execution_count": null,
      "metadata": {
        "id": "M3mSiCyELwFk"
      },
      "outputs": [],
      "source": [
        "plot_diffuse_results(img,\n",
        "                     mask,\n",
        "                     diffused_img)"
      ]
    },
    {
      "cell_type": "code",
      "execution_count": null,
      "metadata": {
        "id": "9cJxRqF335HE"
      },
      "outputs": [],
      "source": []
    }
  ],
  "metadata": {
    "accelerator": "GPU",
    "colab": {
      "gpuType": "V100",
      "machine_shape": "hm",
      "private_outputs": true,
      "provenance": []
    },
    "kernelspec": {
      "display_name": "Python 3",
      "name": "python3"
    },
    "language_info": {
      "name": "python"
    }
  },
  "nbformat": 4,
  "nbformat_minor": 0
}
